{
 "metadata": {
  "language_info": {
   "codemirror_mode": {
    "name": "ipython",
    "version": 3
   },
   "file_extension": ".py",
   "mimetype": "text/x-python",
   "name": "python",
   "nbconvert_exporter": "python",
   "pygments_lexer": "ipython3",
   "version": "3.8.2"
  },
  "orig_nbformat": 2,
  "kernelspec": {
   "name": "python3",
   "display_name": "Python 3.8.2  ('venv': venv)",
   "metadata": {
    "interpreter": {
     "hash": "858b3b61cb144fdc5cb7bf4b9243f63927d0f0838c379c9a756049bf10e1a861"
    }
   }
  }
 },
 "nbformat": 4,
 "nbformat_minor": 2,
 "cells": [
  {
   "cell_type": "code",
   "execution_count": null,
   "metadata": {},
   "outputs": [],
   "source": [
    "import pandas as pd \n",
    "import numpy as np "
   ]
  },
  {
   "source": [
    "## What are Player Level Team Ratings?\n",
    "\n",
    "Team ratings are a way to determine the strength of a team based on player level ratings, often statistical plusminus models (SPM). For a primer on those, check out [this link](https://github.com/anpatton/basic-nba-tutorials/blob/main/spm/how_to_make_spm_R.md). Doing team ratings on the player level means that you are not just adding up points scored per 100 and subtracting points against per 100, as that is team performance data. The player level team ratings are often used for projection, gambling, etc. You might have seen versions of these from PIPM (RIP), DARKO, 538, etc. Like most basketball analytics approaches, there are a variety of ways to accomplish the task, and this is but one simplified version. Let's get into it. \n",
    "\n",
    "## What are Win Projections?\n",
    "\n",
    "Simply, win projections are estimates of how many games a team will win over ___ period of time. Can be season long projections, daily projections, etc. Our projections will be based on our player level team ratings that we will calculate first.\n",
    "\n",
    "## Data\n",
    "\n",
    "1) player_ratings_minutes.csv\" - This is DARKO player ratings from day one of the 2018-19 season with projected minutes as well.  \n",
    "2) \"schedule.csv\" - This is the league schedule from 2018-19.\n"
   ],
   "cell_type": "markdown",
   "metadata": {}
  },
  {
   "cell_type": "code",
   "execution_count": null,
   "metadata": {},
   "outputs": [],
   "source": [
    "ratings = pd.read_csv(\"data/player_ratings_minutes.csv\")\n",
    "ratings[\"dpm\"] = ratings[\"o_dpm\"] + ratings[\"d_dpm\"]\n",
    "ratings[\"team_name\"] = np.where(ratings[\"team_name\"] == \"Los Angeles Clippers\", \"LA Clippers\", ratings[\"team_name\"])\n",
    "ratings = ratings.sort_values(by = [\"dpm\"], ascending=False)\n",
    "ratings.head()"
   ]
  },
  {
   "source": [
    "You'll note that Russ has an extremely high DPM. It starts to decrease somewhat quickly following this point due to three years of strong on-off data.\n",
    "\n",
    "## Step 1: Aggregate player ratings to the team level and calculate team ratings\n",
    "\n",
    "This is a deceptively simple step that does literally does everything! We multiply a player's minutes projection by their O-DPM and D-DPM, and then by team, add up the offensive and defensive values as well as the total minutes projected. Then, we divide the team offensive and defensive values by the teams' total projected minutes and multiply by five (for five players on court). That's it! Add up the offensive and defensive ratings and you have your net team ratings."
   ],
   "cell_type": "markdown",
   "metadata": {}
  },
  {
   "cell_type": "code",
   "execution_count": null,
   "metadata": {},
   "outputs": [],
   "source": [
    "team_ratings = (ratings.fillna(0)\n",
    "                .assign(o_value = ratings[\"minutes\"] * ratings[\"o_dpm\"])\n",
    "                .assign(d_value = ratings[\"minutes\"] * ratings[\"d_dpm\"])\n",
    "                .groupby(\"team_name\")[[\"o_value\", \"d_value\", \"minutes\"]]\n",
    "                .sum()\n",
    "                .reset_index())\n",
    "\n",
    "team_ratings = (team_ratings \n",
    "                .assign(ortg = (team_ratings[\"o_value\"]/team_ratings[\"minutes\"]) * 5)\n",
    "                .assign(drtg = (team_ratings[\"d_value\"]/team_ratings[\"minutes\"]) * 5))\n",
    "\n",
    "team_ratings = team_ratings.assign(nrtg = team_ratings[\"ortg\"] + team_ratings[\"drtg\"])\n",
    "team_ratings = team_ratings[[\"team_name\", \"ortg\", \"drtg\", \"nrtg\"]].sort_values(by = ['nrtg'], ascending=False)\n",
    "team_ratings"
   ]
  },
  {
   "source": [
    "## Step 2: Get What we Need to Project Wins\n",
    "\n",
    "In order to figure out the number of wins a team should have, we first need the schedule. I have scraped that already for the 2018-19 season in the \"schedule.csv\" and conveniently formatted it for our purposes. "
   ],
   "cell_type": "markdown",
   "metadata": {}
  },
  {
   "cell_type": "code",
   "execution_count": null,
   "metadata": {},
   "outputs": [],
   "source": [
    "schedule = pd.read_csv(\"data/schedule.csv\") \n",
    "\n",
    "schedule.head()"
   ]
  },
  {
   "source": [
    "You'll note that home and away teams are there, as home teams are more likely to win. The raw team ratings assume a neutral court scenario. Let's join in the team ratings to the schedule."
   ],
   "cell_type": "markdown",
   "metadata": {}
  },
  {
   "cell_type": "code",
   "execution_count": null,
   "metadata": {},
   "outputs": [],
   "source": [
    "schedule_with_ratings = schedule.merge(team_ratings, how=\"left\", left_on=\"home_team\", right_on=\"team_name\")\n",
    "schedule_with_ratings = schedule_with_ratings.drop(\"team_name\", axis=1)\n",
    "schedule_with_ratings = schedule_with_ratings.merge(team_ratings, how=\"left\", left_on=\"away_team\", right_on=\"team_name\", suffixes=[\"_home\", \"_away\"])\n",
    "schedule_with_ratings = schedule_with_ratings.drop(\"team_name\", axis=1)\n",
    "\n",
    "schedule_with_ratings.head()"
   ]
  },
  {
   "source": [
    "Ok, with that done, our setup is ready to go. All we need to do is actually figure out how to translate ratings to win probability. We're going to cheat a bit here and use some previously conducted research on the topic by some of my NBA Twitter colleagues/friends/collaborators.  \n",
    "\n",
    "The rating difference and win/loss was plugged into a logistic regression across many many games and home/away splits. The coefficients that resulted from that regression are used below as coef1 and coef2. The get_win_prob function takes the coefficients and manually conducts a prediction."
   ],
   "cell_type": "markdown",
   "metadata": {}
  },
  {
   "cell_type": "code",
   "execution_count": null,
   "metadata": {},
   "outputs": [],
   "source": [
    "from numpy.random import normal\n",
    "\n",
    "def get_win_prob(home_rating: float, away_rating: float, sd: float):\n",
    "    hca = 2.7 ## THIS IS DIFFERENT FOR COVID SEASONS\n",
    "    home_rating_adj = normal(loc = home_rating, scale = sd, size = 1)\n",
    "    away_rating_adj = normal(loc = away_rating, scale = sd, size = 1)\n",
    "    delta = home_rating_adj - away_rating_adj - hca\n",
    "    coef1 = 0.1483737284\n",
    "    coef2 = 0.4257284470\n",
    "    home_win_prob = 1/(1 + np.exp(-(coef2 + coef1 * delta)))\n",
    "    return home_win_prob"
   ]
  },
  {
   "source": [
    "You'll note that there is an \"sd\" parameter that we have not discussed. This is approximately the standard deviation of the team ratings based on the uncertainty in the player ratings based again on prior research. Essentially, when we say that Steph is a +7.0, we also imply that he is +7.0 +/- some value. No player is *exactly* what they are predicted at. The default here of 2.2 is also a value taken from previous research on the topic by not-me individuals.\n",
    "\n",
    "Next, we need to build a function that simulates a season of games. This one is kind of hacky but does the trick. Like always, I'm sure there's a better/faster/simpler way to do some of this, but this is my first pass and it seems to work well. It takes in the schedule dataframe and the value for the sd and outputs a list of 1s and 0s where the home team is predicted to win across all the games. Important note - if we assume that the team ratings are normally distributed we can actually skip the simulation. However, I wanted to show the simulation code since that's probably more of use to people than various forms of normal samples.\n"
   ],
   "cell_type": "markdown",
   "metadata": {}
  },
  {
   "cell_type": "code",
   "execution_count": null,
   "metadata": {},
   "outputs": [],
   "source": [
    "from numpy.random import uniform\n",
    "\n",
    "def simulate_season(schedule: pd.DataFrame, sd: float=2.2):\n",
    "  home_rating_col = schedule.columns.get_loc(\"nrtg_home\")\n",
    "  away_rating_col = schedule.columns.get_loc(\"nrtg_away\")\n",
    "  home_win_probs = schedule.apply(lambda x: get_win_prob(x[home_rating_col], x[away_rating_col], sd=2.2), axis=1)\n",
    "  home_win_checks = uniform(size = len(home_win_probs))\n",
    "  home_win = (home_win_probs >= home_win_checks).astype(int)\n",
    "  return home_win.to_numpy()\n"
   ]
  },
  {
   "source": [
    "Now, we're going to do a Monte Carlo (simulation) where we just run the simulation a few hundred times to see what shakes out. If we assumed the team ratings were deterministic, point predictions with no variace, this wouldn't be necessary. This is even more important when you aren't just doing Baby's First Win Projections.\n",
    "\n",
    "Unlike the R file, we will not be doing this in parallel because notebooks don't always play nice with that and my desire to get that to work perfectly is somewhat low. The good news is that this will not take a ton of time because it's a lightweight function. Next, we tally up wins and losses by each team and do some summing\n"
   ],
   "cell_type": "markdown",
   "metadata": {}
  },
  {
   "cell_type": "code",
   "execution_count": 66,
   "metadata": {},
   "outputs": [],
   "source": [
    "iterations = 10\n",
    "season_list = [None] * iterations\n",
    "for i in np.arange(0, iterations):\n",
    "    season_list[i] = simulate_season(schedule = schedule_with_ratings)\n",
    "\n",
    "season_frame = pd.DataFrame(season_list).T\n"
   ]
  },
  {
   "cell_type": "code",
   "execution_count": 80,
   "metadata": {},
   "outputs": [
    {
     "output_type": "execute_result",
     "data": {
      "text/plain": [
       "array([-2, -1, -2, ..., -1, -1, -2])"
      ]
     },
     "metadata": {},
     "execution_count": 80
    }
   ],
   "source": [
    "season_list[0]\n"
   ]
  },
  {
   "cell_type": "code",
   "execution_count": 76,
   "metadata": {},
   "outputs": [
    {
     "output_type": "execute_result",
     "data": {
      "text/plain": [
       "                 team_name   0   1   2   3   4   5   6   7   8   9\n",
       "0            Atlanta Hawks  11   8  12  15  11   8   9   8  10   6\n",
       "1           Boston Celtics  26  25  26  25  21  26  24  23  28  25\n",
       "2            Brooklyn Nets  14  12  12  18  24  22  17  10  19  16\n",
       "3        Charlotte Hornets  20  25  19  19  17  16  16  20  17  17\n",
       "4            Chicago Bulls  14  15  10  11   7  12  13   8  11  10\n",
       "5      Cleveland Cavaliers  17  13  17  16   8  13  17  17  15  15\n",
       "6         Dallas Mavericks  14  13  20  10  17  16  16  16  19  18\n",
       "7           Denver Nuggets  21  23  26  22  24  25  27  25  23  21\n",
       "8          Detroit Pistons  17  19  16  26  21  16  21  14  22  20\n",
       "9    Golden State Warriors  35  35  33  33  36  31  37  37  34  34\n",
       "10         Houston Rockets  25  24  26  30  27  16  26  26  23  23\n",
       "11          Indiana Pacers  25  29  22  28  19  26  27  25  23  28\n",
       "12             LA Clippers  21  19  21  21  19  20  20  19  16  18\n",
       "13      Los Angeles Lakers  18  20  20  19  22  12  25  21  18  21\n",
       "14       Memphis Grizzlies  17  17  16  15  13   9  18  18  22  11\n",
       "15              Miami Heat  21  22  24  24  15  20  22  22  26  18\n",
       "16         Milwaukee Bucks  30  31  28  24  29  28  29  29  29  28\n",
       "17  Minnesota Timberwolves  27  25  20  25  29  26  22  24  22  27\n",
       "18    New Orleans Pelicans  28  29  22  24  26  20  30  29  30  27\n",
       "19         New York Knicks  12  10   7  12  12  12  11  11  10  11\n",
       "20   Oklahoma City Thunder  28  35  33  29  31  26  27  26  29  22\n",
       "21           Orlando Magic  22  18  18  13  11  14  21  12  15  13\n",
       "22      Philadelphia 76ers  25  24  26  22  25  26  24  25  29  28\n",
       "23            Phoenix Suns  12  13  11  10  11  16  11  13  11   6\n",
       "24  Portland Trail Blazers  23  24  18  22  23  23  24  27  16  20\n",
       "25        Sacramento Kings  16  12  12  11  17  13  17  12   9  12\n",
       "26       San Antonio Spurs  23  17  21  19  19  16  21  19  15  17\n",
       "27         Toronto Raptors  30  30  25  31  29  29  35  31  26  31\n",
       "28               Utah Jazz  26  25  22  30  25  23  28  24  26  26\n",
       "29      Washington Wizards  20  14  20  19  21  20  26  25  24  24"
      ],
      "text/html": "<div>\n<style scoped>\n    .dataframe tbody tr th:only-of-type {\n        vertical-align: middle;\n    }\n\n    .dataframe tbody tr th {\n        vertical-align: top;\n    }\n\n    .dataframe thead th {\n        text-align: right;\n    }\n</style>\n<table border=\"1\" class=\"dataframe\">\n  <thead>\n    <tr style=\"text-align: right;\">\n      <th></th>\n      <th>team_name</th>\n      <th>0</th>\n      <th>1</th>\n      <th>2</th>\n      <th>3</th>\n      <th>4</th>\n      <th>5</th>\n      <th>6</th>\n      <th>7</th>\n      <th>8</th>\n      <th>9</th>\n    </tr>\n  </thead>\n  <tbody>\n    <tr>\n      <th>0</th>\n      <td>Atlanta Hawks</td>\n      <td>11</td>\n      <td>8</td>\n      <td>12</td>\n      <td>15</td>\n      <td>11</td>\n      <td>8</td>\n      <td>9</td>\n      <td>8</td>\n      <td>10</td>\n      <td>6</td>\n    </tr>\n    <tr>\n      <th>1</th>\n      <td>Boston Celtics</td>\n      <td>26</td>\n      <td>25</td>\n      <td>26</td>\n      <td>25</td>\n      <td>21</td>\n      <td>26</td>\n      <td>24</td>\n      <td>23</td>\n      <td>28</td>\n      <td>25</td>\n    </tr>\n    <tr>\n      <th>2</th>\n      <td>Brooklyn Nets</td>\n      <td>14</td>\n      <td>12</td>\n      <td>12</td>\n      <td>18</td>\n      <td>24</td>\n      <td>22</td>\n      <td>17</td>\n      <td>10</td>\n      <td>19</td>\n      <td>16</td>\n    </tr>\n    <tr>\n      <th>3</th>\n      <td>Charlotte Hornets</td>\n      <td>20</td>\n      <td>25</td>\n      <td>19</td>\n      <td>19</td>\n      <td>17</td>\n      <td>16</td>\n      <td>16</td>\n      <td>20</td>\n      <td>17</td>\n      <td>17</td>\n    </tr>\n    <tr>\n      <th>4</th>\n      <td>Chicago Bulls</td>\n      <td>14</td>\n      <td>15</td>\n      <td>10</td>\n      <td>11</td>\n      <td>7</td>\n      <td>12</td>\n      <td>13</td>\n      <td>8</td>\n      <td>11</td>\n      <td>10</td>\n    </tr>\n    <tr>\n      <th>5</th>\n      <td>Cleveland Cavaliers</td>\n      <td>17</td>\n      <td>13</td>\n      <td>17</td>\n      <td>16</td>\n      <td>8</td>\n      <td>13</td>\n      <td>17</td>\n      <td>17</td>\n      <td>15</td>\n      <td>15</td>\n    </tr>\n    <tr>\n      <th>6</th>\n      <td>Dallas Mavericks</td>\n      <td>14</td>\n      <td>13</td>\n      <td>20</td>\n      <td>10</td>\n      <td>17</td>\n      <td>16</td>\n      <td>16</td>\n      <td>16</td>\n      <td>19</td>\n      <td>18</td>\n    </tr>\n    <tr>\n      <th>7</th>\n      <td>Denver Nuggets</td>\n      <td>21</td>\n      <td>23</td>\n      <td>26</td>\n      <td>22</td>\n      <td>24</td>\n      <td>25</td>\n      <td>27</td>\n      <td>25</td>\n      <td>23</td>\n      <td>21</td>\n    </tr>\n    <tr>\n      <th>8</th>\n      <td>Detroit Pistons</td>\n      <td>17</td>\n      <td>19</td>\n      <td>16</td>\n      <td>26</td>\n      <td>21</td>\n      <td>16</td>\n      <td>21</td>\n      <td>14</td>\n      <td>22</td>\n      <td>20</td>\n    </tr>\n    <tr>\n      <th>9</th>\n      <td>Golden State Warriors</td>\n      <td>35</td>\n      <td>35</td>\n      <td>33</td>\n      <td>33</td>\n      <td>36</td>\n      <td>31</td>\n      <td>37</td>\n      <td>37</td>\n      <td>34</td>\n      <td>34</td>\n    </tr>\n    <tr>\n      <th>10</th>\n      <td>Houston Rockets</td>\n      <td>25</td>\n      <td>24</td>\n      <td>26</td>\n      <td>30</td>\n      <td>27</td>\n      <td>16</td>\n      <td>26</td>\n      <td>26</td>\n      <td>23</td>\n      <td>23</td>\n    </tr>\n    <tr>\n      <th>11</th>\n      <td>Indiana Pacers</td>\n      <td>25</td>\n      <td>29</td>\n      <td>22</td>\n      <td>28</td>\n      <td>19</td>\n      <td>26</td>\n      <td>27</td>\n      <td>25</td>\n      <td>23</td>\n      <td>28</td>\n    </tr>\n    <tr>\n      <th>12</th>\n      <td>LA Clippers</td>\n      <td>21</td>\n      <td>19</td>\n      <td>21</td>\n      <td>21</td>\n      <td>19</td>\n      <td>20</td>\n      <td>20</td>\n      <td>19</td>\n      <td>16</td>\n      <td>18</td>\n    </tr>\n    <tr>\n      <th>13</th>\n      <td>Los Angeles Lakers</td>\n      <td>18</td>\n      <td>20</td>\n      <td>20</td>\n      <td>19</td>\n      <td>22</td>\n      <td>12</td>\n      <td>25</td>\n      <td>21</td>\n      <td>18</td>\n      <td>21</td>\n    </tr>\n    <tr>\n      <th>14</th>\n      <td>Memphis Grizzlies</td>\n      <td>17</td>\n      <td>17</td>\n      <td>16</td>\n      <td>15</td>\n      <td>13</td>\n      <td>9</td>\n      <td>18</td>\n      <td>18</td>\n      <td>22</td>\n      <td>11</td>\n    </tr>\n    <tr>\n      <th>15</th>\n      <td>Miami Heat</td>\n      <td>21</td>\n      <td>22</td>\n      <td>24</td>\n      <td>24</td>\n      <td>15</td>\n      <td>20</td>\n      <td>22</td>\n      <td>22</td>\n      <td>26</td>\n      <td>18</td>\n    </tr>\n    <tr>\n      <th>16</th>\n      <td>Milwaukee Bucks</td>\n      <td>30</td>\n      <td>31</td>\n      <td>28</td>\n      <td>24</td>\n      <td>29</td>\n      <td>28</td>\n      <td>29</td>\n      <td>29</td>\n      <td>29</td>\n      <td>28</td>\n    </tr>\n    <tr>\n      <th>17</th>\n      <td>Minnesota Timberwolves</td>\n      <td>27</td>\n      <td>25</td>\n      <td>20</td>\n      <td>25</td>\n      <td>29</td>\n      <td>26</td>\n      <td>22</td>\n      <td>24</td>\n      <td>22</td>\n      <td>27</td>\n    </tr>\n    <tr>\n      <th>18</th>\n      <td>New Orleans Pelicans</td>\n      <td>28</td>\n      <td>29</td>\n      <td>22</td>\n      <td>24</td>\n      <td>26</td>\n      <td>20</td>\n      <td>30</td>\n      <td>29</td>\n      <td>30</td>\n      <td>27</td>\n    </tr>\n    <tr>\n      <th>19</th>\n      <td>New York Knicks</td>\n      <td>12</td>\n      <td>10</td>\n      <td>7</td>\n      <td>12</td>\n      <td>12</td>\n      <td>12</td>\n      <td>11</td>\n      <td>11</td>\n      <td>10</td>\n      <td>11</td>\n    </tr>\n    <tr>\n      <th>20</th>\n      <td>Oklahoma City Thunder</td>\n      <td>28</td>\n      <td>35</td>\n      <td>33</td>\n      <td>29</td>\n      <td>31</td>\n      <td>26</td>\n      <td>27</td>\n      <td>26</td>\n      <td>29</td>\n      <td>22</td>\n    </tr>\n    <tr>\n      <th>21</th>\n      <td>Orlando Magic</td>\n      <td>22</td>\n      <td>18</td>\n      <td>18</td>\n      <td>13</td>\n      <td>11</td>\n      <td>14</td>\n      <td>21</td>\n      <td>12</td>\n      <td>15</td>\n      <td>13</td>\n    </tr>\n    <tr>\n      <th>22</th>\n      <td>Philadelphia 76ers</td>\n      <td>25</td>\n      <td>24</td>\n      <td>26</td>\n      <td>22</td>\n      <td>25</td>\n      <td>26</td>\n      <td>24</td>\n      <td>25</td>\n      <td>29</td>\n      <td>28</td>\n    </tr>\n    <tr>\n      <th>23</th>\n      <td>Phoenix Suns</td>\n      <td>12</td>\n      <td>13</td>\n      <td>11</td>\n      <td>10</td>\n      <td>11</td>\n      <td>16</td>\n      <td>11</td>\n      <td>13</td>\n      <td>11</td>\n      <td>6</td>\n    </tr>\n    <tr>\n      <th>24</th>\n      <td>Portland Trail Blazers</td>\n      <td>23</td>\n      <td>24</td>\n      <td>18</td>\n      <td>22</td>\n      <td>23</td>\n      <td>23</td>\n      <td>24</td>\n      <td>27</td>\n      <td>16</td>\n      <td>20</td>\n    </tr>\n    <tr>\n      <th>25</th>\n      <td>Sacramento Kings</td>\n      <td>16</td>\n      <td>12</td>\n      <td>12</td>\n      <td>11</td>\n      <td>17</td>\n      <td>13</td>\n      <td>17</td>\n      <td>12</td>\n      <td>9</td>\n      <td>12</td>\n    </tr>\n    <tr>\n      <th>26</th>\n      <td>San Antonio Spurs</td>\n      <td>23</td>\n      <td>17</td>\n      <td>21</td>\n      <td>19</td>\n      <td>19</td>\n      <td>16</td>\n      <td>21</td>\n      <td>19</td>\n      <td>15</td>\n      <td>17</td>\n    </tr>\n    <tr>\n      <th>27</th>\n      <td>Toronto Raptors</td>\n      <td>30</td>\n      <td>30</td>\n      <td>25</td>\n      <td>31</td>\n      <td>29</td>\n      <td>29</td>\n      <td>35</td>\n      <td>31</td>\n      <td>26</td>\n      <td>31</td>\n    </tr>\n    <tr>\n      <th>28</th>\n      <td>Utah Jazz</td>\n      <td>26</td>\n      <td>25</td>\n      <td>22</td>\n      <td>30</td>\n      <td>25</td>\n      <td>23</td>\n      <td>28</td>\n      <td>24</td>\n      <td>26</td>\n      <td>26</td>\n    </tr>\n    <tr>\n      <th>29</th>\n      <td>Washington Wizards</td>\n      <td>20</td>\n      <td>14</td>\n      <td>20</td>\n      <td>19</td>\n      <td>21</td>\n      <td>20</td>\n      <td>26</td>\n      <td>25</td>\n      <td>24</td>\n      <td>24</td>\n    </tr>\n  </tbody>\n</table>\n</div>"
     },
     "metadata": {},
     "execution_count": 76
    }
   ],
   "source": [
    "season_frame_home = season_frame.copy()\n",
    "season_frame_home['team_name'] = schedule_with_ratings['home_team'] ## this is for the home team\n",
    "season_frame_home = season_frame_home.groupby('team_name').sum()\n",
    "season_frame_home.reset_index()\n",
    "\n",
    "\n"
   ]
  },
  {
   "cell_type": "code",
   "execution_count": 84,
   "metadata": {},
   "outputs": [
    {
     "output_type": "execute_result",
     "data": {
      "text/plain": [
       "                 team_name   0   1   2   3   4   5   6   7   8   9\n",
       "0            Atlanta Hawks   8  15  20   7  11  11  11  11   9   9\n",
       "1           Boston Celtics  28  27  22  25  23  24  22  22  23  26\n",
       "2            Brooklyn Nets  15   8  15  10  17  19  15  19  21  15\n",
       "3        Charlotte Hornets  14  19  17  17  15  22  14  17  16  17\n",
       "4            Chicago Bulls   9   8  12  12  12  11   9  13  11  11\n",
       "5      Cleveland Cavaliers  13  10  18  14  15  20  15  18  20  15\n",
       "6         Dallas Mavericks  15  18  15  15  24  18  10  13  16  15\n",
       "7           Denver Nuggets  24  25  22  30  27  27  20  25  26  24\n",
       "8          Detroit Pistons  15  23  18  22  28  14  17  20  17  17\n",
       "9    Golden State Warriors  35  35  35  32  36  33  36  36  34  34\n",
       "10         Houston Rockets  24  22  25  24  30  24  23  21  30  28\n",
       "11          Indiana Pacers  24  19  20  28  21  29  20  27  21  23\n",
       "12             LA Clippers  18   9  18  16  16  22  15  21  16  17\n",
       "13      Los Angeles Lakers  21  19  17  17  14  19  15  20  17  21\n",
       "14       Memphis Grizzlies  14  19  17  16  14  18  16  16  15  16\n",
       "15              Miami Heat  25  22  24  22  18  20  20  25  26  23\n",
       "16         Milwaukee Bucks  25  28  33  26  31  31  24  24  24  29\n",
       "17  Minnesota Timberwolves  24  27  27  22  25  23  25  24  25  24\n",
       "18    New Orleans Pelicans  23  27  28  23  22  26  31  28  23  29\n",
       "19         New York Knicks  13  11  16  14  10  12  12  13  12  18\n",
       "20   Oklahoma City Thunder  28  24  30  30  30  27  29  26  26  32\n",
       "21           Orlando Magic   9  21  18  18  18  20  11  12  15  11\n",
       "22      Philadelphia 76ers  19  21  24  25  27  25  26  24  26  29\n",
       "23            Phoenix Suns  12   9   9  10   8  15   5  11   9  10\n",
       "24  Portland Trail Blazers  26  22  21  25  23  23  27  17  28  24\n",
       "25        Sacramento Kings  13  13  13  11  12  10  15  11  12  15\n",
       "26       San Antonio Spurs  17  24  19  20  20  24  16  26  21  19\n",
       "27         Toronto Raptors  30  28  25  30  28  34  25  28  29  33\n",
       "28               Utah Jazz  29  28  23  26  20  24  23  22  25  25\n",
       "29      Washington Wizards  22  23  26  20  26  25  22  24  20  28"
      ],
      "text/html": "<div>\n<style scoped>\n    .dataframe tbody tr th:only-of-type {\n        vertical-align: middle;\n    }\n\n    .dataframe tbody tr th {\n        vertical-align: top;\n    }\n\n    .dataframe thead th {\n        text-align: right;\n    }\n</style>\n<table border=\"1\" class=\"dataframe\">\n  <thead>\n    <tr style=\"text-align: right;\">\n      <th></th>\n      <th>team_name</th>\n      <th>0</th>\n      <th>1</th>\n      <th>2</th>\n      <th>3</th>\n      <th>4</th>\n      <th>5</th>\n      <th>6</th>\n      <th>7</th>\n      <th>8</th>\n      <th>9</th>\n    </tr>\n  </thead>\n  <tbody>\n    <tr>\n      <th>0</th>\n      <td>Atlanta Hawks</td>\n      <td>8</td>\n      <td>15</td>\n      <td>20</td>\n      <td>7</td>\n      <td>11</td>\n      <td>11</td>\n      <td>11</td>\n      <td>11</td>\n      <td>9</td>\n      <td>9</td>\n    </tr>\n    <tr>\n      <th>1</th>\n      <td>Boston Celtics</td>\n      <td>28</td>\n      <td>27</td>\n      <td>22</td>\n      <td>25</td>\n      <td>23</td>\n      <td>24</td>\n      <td>22</td>\n      <td>22</td>\n      <td>23</td>\n      <td>26</td>\n    </tr>\n    <tr>\n      <th>2</th>\n      <td>Brooklyn Nets</td>\n      <td>15</td>\n      <td>8</td>\n      <td>15</td>\n      <td>10</td>\n      <td>17</td>\n      <td>19</td>\n      <td>15</td>\n      <td>19</td>\n      <td>21</td>\n      <td>15</td>\n    </tr>\n    <tr>\n      <th>3</th>\n      <td>Charlotte Hornets</td>\n      <td>14</td>\n      <td>19</td>\n      <td>17</td>\n      <td>17</td>\n      <td>15</td>\n      <td>22</td>\n      <td>14</td>\n      <td>17</td>\n      <td>16</td>\n      <td>17</td>\n    </tr>\n    <tr>\n      <th>4</th>\n      <td>Chicago Bulls</td>\n      <td>9</td>\n      <td>8</td>\n      <td>12</td>\n      <td>12</td>\n      <td>12</td>\n      <td>11</td>\n      <td>9</td>\n      <td>13</td>\n      <td>11</td>\n      <td>11</td>\n    </tr>\n    <tr>\n      <th>5</th>\n      <td>Cleveland Cavaliers</td>\n      <td>13</td>\n      <td>10</td>\n      <td>18</td>\n      <td>14</td>\n      <td>15</td>\n      <td>20</td>\n      <td>15</td>\n      <td>18</td>\n      <td>20</td>\n      <td>15</td>\n    </tr>\n    <tr>\n      <th>6</th>\n      <td>Dallas Mavericks</td>\n      <td>15</td>\n      <td>18</td>\n      <td>15</td>\n      <td>15</td>\n      <td>24</td>\n      <td>18</td>\n      <td>10</td>\n      <td>13</td>\n      <td>16</td>\n      <td>15</td>\n    </tr>\n    <tr>\n      <th>7</th>\n      <td>Denver Nuggets</td>\n      <td>24</td>\n      <td>25</td>\n      <td>22</td>\n      <td>30</td>\n      <td>27</td>\n      <td>27</td>\n      <td>20</td>\n      <td>25</td>\n      <td>26</td>\n      <td>24</td>\n    </tr>\n    <tr>\n      <th>8</th>\n      <td>Detroit Pistons</td>\n      <td>15</td>\n      <td>23</td>\n      <td>18</td>\n      <td>22</td>\n      <td>28</td>\n      <td>14</td>\n      <td>17</td>\n      <td>20</td>\n      <td>17</td>\n      <td>17</td>\n    </tr>\n    <tr>\n      <th>9</th>\n      <td>Golden State Warriors</td>\n      <td>35</td>\n      <td>35</td>\n      <td>35</td>\n      <td>32</td>\n      <td>36</td>\n      <td>33</td>\n      <td>36</td>\n      <td>36</td>\n      <td>34</td>\n      <td>34</td>\n    </tr>\n    <tr>\n      <th>10</th>\n      <td>Houston Rockets</td>\n      <td>24</td>\n      <td>22</td>\n      <td>25</td>\n      <td>24</td>\n      <td>30</td>\n      <td>24</td>\n      <td>23</td>\n      <td>21</td>\n      <td>30</td>\n      <td>28</td>\n    </tr>\n    <tr>\n      <th>11</th>\n      <td>Indiana Pacers</td>\n      <td>24</td>\n      <td>19</td>\n      <td>20</td>\n      <td>28</td>\n      <td>21</td>\n      <td>29</td>\n      <td>20</td>\n      <td>27</td>\n      <td>21</td>\n      <td>23</td>\n    </tr>\n    <tr>\n      <th>12</th>\n      <td>LA Clippers</td>\n      <td>18</td>\n      <td>9</td>\n      <td>18</td>\n      <td>16</td>\n      <td>16</td>\n      <td>22</td>\n      <td>15</td>\n      <td>21</td>\n      <td>16</td>\n      <td>17</td>\n    </tr>\n    <tr>\n      <th>13</th>\n      <td>Los Angeles Lakers</td>\n      <td>21</td>\n      <td>19</td>\n      <td>17</td>\n      <td>17</td>\n      <td>14</td>\n      <td>19</td>\n      <td>15</td>\n      <td>20</td>\n      <td>17</td>\n      <td>21</td>\n    </tr>\n    <tr>\n      <th>14</th>\n      <td>Memphis Grizzlies</td>\n      <td>14</td>\n      <td>19</td>\n      <td>17</td>\n      <td>16</td>\n      <td>14</td>\n      <td>18</td>\n      <td>16</td>\n      <td>16</td>\n      <td>15</td>\n      <td>16</td>\n    </tr>\n    <tr>\n      <th>15</th>\n      <td>Miami Heat</td>\n      <td>25</td>\n      <td>22</td>\n      <td>24</td>\n      <td>22</td>\n      <td>18</td>\n      <td>20</td>\n      <td>20</td>\n      <td>25</td>\n      <td>26</td>\n      <td>23</td>\n    </tr>\n    <tr>\n      <th>16</th>\n      <td>Milwaukee Bucks</td>\n      <td>25</td>\n      <td>28</td>\n      <td>33</td>\n      <td>26</td>\n      <td>31</td>\n      <td>31</td>\n      <td>24</td>\n      <td>24</td>\n      <td>24</td>\n      <td>29</td>\n    </tr>\n    <tr>\n      <th>17</th>\n      <td>Minnesota Timberwolves</td>\n      <td>24</td>\n      <td>27</td>\n      <td>27</td>\n      <td>22</td>\n      <td>25</td>\n      <td>23</td>\n      <td>25</td>\n      <td>24</td>\n      <td>25</td>\n      <td>24</td>\n    </tr>\n    <tr>\n      <th>18</th>\n      <td>New Orleans Pelicans</td>\n      <td>23</td>\n      <td>27</td>\n      <td>28</td>\n      <td>23</td>\n      <td>22</td>\n      <td>26</td>\n      <td>31</td>\n      <td>28</td>\n      <td>23</td>\n      <td>29</td>\n    </tr>\n    <tr>\n      <th>19</th>\n      <td>New York Knicks</td>\n      <td>13</td>\n      <td>11</td>\n      <td>16</td>\n      <td>14</td>\n      <td>10</td>\n      <td>12</td>\n      <td>12</td>\n      <td>13</td>\n      <td>12</td>\n      <td>18</td>\n    </tr>\n    <tr>\n      <th>20</th>\n      <td>Oklahoma City Thunder</td>\n      <td>28</td>\n      <td>24</td>\n      <td>30</td>\n      <td>30</td>\n      <td>30</td>\n      <td>27</td>\n      <td>29</td>\n      <td>26</td>\n      <td>26</td>\n      <td>32</td>\n    </tr>\n    <tr>\n      <th>21</th>\n      <td>Orlando Magic</td>\n      <td>9</td>\n      <td>21</td>\n      <td>18</td>\n      <td>18</td>\n      <td>18</td>\n      <td>20</td>\n      <td>11</td>\n      <td>12</td>\n      <td>15</td>\n      <td>11</td>\n    </tr>\n    <tr>\n      <th>22</th>\n      <td>Philadelphia 76ers</td>\n      <td>19</td>\n      <td>21</td>\n      <td>24</td>\n      <td>25</td>\n      <td>27</td>\n      <td>25</td>\n      <td>26</td>\n      <td>24</td>\n      <td>26</td>\n      <td>29</td>\n    </tr>\n    <tr>\n      <th>23</th>\n      <td>Phoenix Suns</td>\n      <td>12</td>\n      <td>9</td>\n      <td>9</td>\n      <td>10</td>\n      <td>8</td>\n      <td>15</td>\n      <td>5</td>\n      <td>11</td>\n      <td>9</td>\n      <td>10</td>\n    </tr>\n    <tr>\n      <th>24</th>\n      <td>Portland Trail Blazers</td>\n      <td>26</td>\n      <td>22</td>\n      <td>21</td>\n      <td>25</td>\n      <td>23</td>\n      <td>23</td>\n      <td>27</td>\n      <td>17</td>\n      <td>28</td>\n      <td>24</td>\n    </tr>\n    <tr>\n      <th>25</th>\n      <td>Sacramento Kings</td>\n      <td>13</td>\n      <td>13</td>\n      <td>13</td>\n      <td>11</td>\n      <td>12</td>\n      <td>10</td>\n      <td>15</td>\n      <td>11</td>\n      <td>12</td>\n      <td>15</td>\n    </tr>\n    <tr>\n      <th>26</th>\n      <td>San Antonio Spurs</td>\n      <td>17</td>\n      <td>24</td>\n      <td>19</td>\n      <td>20</td>\n      <td>20</td>\n      <td>24</td>\n      <td>16</td>\n      <td>26</td>\n      <td>21</td>\n      <td>19</td>\n    </tr>\n    <tr>\n      <th>27</th>\n      <td>Toronto Raptors</td>\n      <td>30</td>\n      <td>28</td>\n      <td>25</td>\n      <td>30</td>\n      <td>28</td>\n      <td>34</td>\n      <td>25</td>\n      <td>28</td>\n      <td>29</td>\n      <td>33</td>\n    </tr>\n    <tr>\n      <th>28</th>\n      <td>Utah Jazz</td>\n      <td>29</td>\n      <td>28</td>\n      <td>23</td>\n      <td>26</td>\n      <td>20</td>\n      <td>24</td>\n      <td>23</td>\n      <td>22</td>\n      <td>25</td>\n      <td>25</td>\n    </tr>\n    <tr>\n      <th>29</th>\n      <td>Washington Wizards</td>\n      <td>22</td>\n      <td>23</td>\n      <td>26</td>\n      <td>20</td>\n      <td>26</td>\n      <td>25</td>\n      <td>22</td>\n      <td>24</td>\n      <td>20</td>\n      <td>28</td>\n    </tr>\n  </tbody>\n</table>\n</div>"
     },
     "metadata": {},
     "execution_count": 84
    }
   ],
   "source": [
    "season_frame_away = 1 * (season_frame == 0) ## flipping 1s and 0s for the away team\n",
    "season_frame_away['team_name'] = schedule_with_ratings['away_team'] ## this is for the away team\n",
    "season_frame_away = season_frame_away.groupby('team_name').sum()\n",
    "season_frame_away.reset_index()"
   ]
  },
  {
   "cell_type": "code",
   "execution_count": 126,
   "metadata": {},
   "outputs": [
    {
     "output_type": "execute_result",
     "data": {
      "text/plain": [
       "                 team_name  mean   sd  best_case  worst_case\n",
       "9    Golden State Warriors  69.1  2.9       73.9        64.3\n",
       "27         Toronto Raptors  58.7  3.8       65.0        52.4\n",
       "20   Oklahoma City Thunder  56.8  3.4       62.4        51.2\n",
       "16         Milwaukee Bucks  56.0  3.5       61.8        50.2\n",
       "18    New Orleans Pelicans  52.5  4.7       60.2        44.8\n",
       "28               Utah Jazz  50.0  3.8       56.3        43.7\n",
       "22      Philadelphia 76ers  50.0  3.9       56.4        43.6\n",
       "10         Houston Rockets  49.7  4.5       57.1        42.3\n",
       "17  Minnesota Timberwolves  49.3  2.4       53.3        45.3\n",
       "1           Boston Celtics  49.1  3.1       54.2        44.0\n",
       "7           Denver Nuggets  48.7  2.5       52.7        44.7\n",
       "11          Indiana Pacers  48.4  5.0       56.7        40.1\n",
       "24  Portland Trail Blazers  45.6  3.1       50.7        40.5\n",
       "29      Washington Wizards  44.9  4.3       52.0        37.8\n",
       "15              Miami Heat  43.9  5.0       52.1        35.7\n",
       "26       San Antonio Spurs  39.3  2.5       43.5        35.1\n",
       "8          Detroit Pistons  38.3  6.1       48.3        28.3\n",
       "13      Los Angeles Lakers  37.6  3.1       42.7        32.5\n",
       "12             LA Clippers  36.2  3.9       42.6        29.8\n",
       "3        Charlotte Hornets  35.4  3.7       41.4        29.4\n",
       "6         Dallas Mavericks  31.8  4.6       39.3        24.3\n",
       "2            Brooklyn Nets  31.8  6.6       42.6        21.0\n",
       "14       Memphis Grizzlies  31.7  3.6       37.5        25.9\n",
       "21           Orlando Magic  31.0  4.5       38.4        23.6\n",
       "5      Cleveland Cavaliers  30.6  4.3       37.6        23.6\n",
       "25        Sacramento Kings  25.6  3.4       31.2        20.0\n",
       "19         New York Knicks  23.9  2.2       27.5        20.3\n",
       "4            Chicago Bulls  21.9  1.2       23.9        19.9\n",
       "23            Phoenix Suns  21.2  4.2       28.1        14.3\n",
       "0            Atlanta Hawks  21.0  4.2       28.0        14.0"
      ],
      "text/html": "<div>\n<style scoped>\n    .dataframe tbody tr th:only-of-type {\n        vertical-align: middle;\n    }\n\n    .dataframe tbody tr th {\n        vertical-align: top;\n    }\n\n    .dataframe thead th {\n        text-align: right;\n    }\n</style>\n<table border=\"1\" class=\"dataframe\">\n  <thead>\n    <tr style=\"text-align: right;\">\n      <th></th>\n      <th>team_name</th>\n      <th>mean</th>\n      <th>sd</th>\n      <th>best_case</th>\n      <th>worst_case</th>\n    </tr>\n  </thead>\n  <tbody>\n    <tr>\n      <th>9</th>\n      <td>Golden State Warriors</td>\n      <td>69.1</td>\n      <td>2.9</td>\n      <td>73.9</td>\n      <td>64.3</td>\n    </tr>\n    <tr>\n      <th>27</th>\n      <td>Toronto Raptors</td>\n      <td>58.7</td>\n      <td>3.8</td>\n      <td>65.0</td>\n      <td>52.4</td>\n    </tr>\n    <tr>\n      <th>20</th>\n      <td>Oklahoma City Thunder</td>\n      <td>56.8</td>\n      <td>3.4</td>\n      <td>62.4</td>\n      <td>51.2</td>\n    </tr>\n    <tr>\n      <th>16</th>\n      <td>Milwaukee Bucks</td>\n      <td>56.0</td>\n      <td>3.5</td>\n      <td>61.8</td>\n      <td>50.2</td>\n    </tr>\n    <tr>\n      <th>18</th>\n      <td>New Orleans Pelicans</td>\n      <td>52.5</td>\n      <td>4.7</td>\n      <td>60.2</td>\n      <td>44.8</td>\n    </tr>\n    <tr>\n      <th>28</th>\n      <td>Utah Jazz</td>\n      <td>50.0</td>\n      <td>3.8</td>\n      <td>56.3</td>\n      <td>43.7</td>\n    </tr>\n    <tr>\n      <th>22</th>\n      <td>Philadelphia 76ers</td>\n      <td>50.0</td>\n      <td>3.9</td>\n      <td>56.4</td>\n      <td>43.6</td>\n    </tr>\n    <tr>\n      <th>10</th>\n      <td>Houston Rockets</td>\n      <td>49.7</td>\n      <td>4.5</td>\n      <td>57.1</td>\n      <td>42.3</td>\n    </tr>\n    <tr>\n      <th>17</th>\n      <td>Minnesota Timberwolves</td>\n      <td>49.3</td>\n      <td>2.4</td>\n      <td>53.3</td>\n      <td>45.3</td>\n    </tr>\n    <tr>\n      <th>1</th>\n      <td>Boston Celtics</td>\n      <td>49.1</td>\n      <td>3.1</td>\n      <td>54.2</td>\n      <td>44.0</td>\n    </tr>\n    <tr>\n      <th>7</th>\n      <td>Denver Nuggets</td>\n      <td>48.7</td>\n      <td>2.5</td>\n      <td>52.7</td>\n      <td>44.7</td>\n    </tr>\n    <tr>\n      <th>11</th>\n      <td>Indiana Pacers</td>\n      <td>48.4</td>\n      <td>5.0</td>\n      <td>56.7</td>\n      <td>40.1</td>\n    </tr>\n    <tr>\n      <th>24</th>\n      <td>Portland Trail Blazers</td>\n      <td>45.6</td>\n      <td>3.1</td>\n      <td>50.7</td>\n      <td>40.5</td>\n    </tr>\n    <tr>\n      <th>29</th>\n      <td>Washington Wizards</td>\n      <td>44.9</td>\n      <td>4.3</td>\n      <td>52.0</td>\n      <td>37.8</td>\n    </tr>\n    <tr>\n      <th>15</th>\n      <td>Miami Heat</td>\n      <td>43.9</td>\n      <td>5.0</td>\n      <td>52.1</td>\n      <td>35.7</td>\n    </tr>\n    <tr>\n      <th>26</th>\n      <td>San Antonio Spurs</td>\n      <td>39.3</td>\n      <td>2.5</td>\n      <td>43.5</td>\n      <td>35.1</td>\n    </tr>\n    <tr>\n      <th>8</th>\n      <td>Detroit Pistons</td>\n      <td>38.3</td>\n      <td>6.1</td>\n      <td>48.3</td>\n      <td>28.3</td>\n    </tr>\n    <tr>\n      <th>13</th>\n      <td>Los Angeles Lakers</td>\n      <td>37.6</td>\n      <td>3.1</td>\n      <td>42.7</td>\n      <td>32.5</td>\n    </tr>\n    <tr>\n      <th>12</th>\n      <td>LA Clippers</td>\n      <td>36.2</td>\n      <td>3.9</td>\n      <td>42.6</td>\n      <td>29.8</td>\n    </tr>\n    <tr>\n      <th>3</th>\n      <td>Charlotte Hornets</td>\n      <td>35.4</td>\n      <td>3.7</td>\n      <td>41.4</td>\n      <td>29.4</td>\n    </tr>\n    <tr>\n      <th>6</th>\n      <td>Dallas Mavericks</td>\n      <td>31.8</td>\n      <td>4.6</td>\n      <td>39.3</td>\n      <td>24.3</td>\n    </tr>\n    <tr>\n      <th>2</th>\n      <td>Brooklyn Nets</td>\n      <td>31.8</td>\n      <td>6.6</td>\n      <td>42.6</td>\n      <td>21.0</td>\n    </tr>\n    <tr>\n      <th>14</th>\n      <td>Memphis Grizzlies</td>\n      <td>31.7</td>\n      <td>3.6</td>\n      <td>37.5</td>\n      <td>25.9</td>\n    </tr>\n    <tr>\n      <th>21</th>\n      <td>Orlando Magic</td>\n      <td>31.0</td>\n      <td>4.5</td>\n      <td>38.4</td>\n      <td>23.6</td>\n    </tr>\n    <tr>\n      <th>5</th>\n      <td>Cleveland Cavaliers</td>\n      <td>30.6</td>\n      <td>4.3</td>\n      <td>37.6</td>\n      <td>23.6</td>\n    </tr>\n    <tr>\n      <th>25</th>\n      <td>Sacramento Kings</td>\n      <td>25.6</td>\n      <td>3.4</td>\n      <td>31.2</td>\n      <td>20.0</td>\n    </tr>\n    <tr>\n      <th>19</th>\n      <td>New York Knicks</td>\n      <td>23.9</td>\n      <td>2.2</td>\n      <td>27.5</td>\n      <td>20.3</td>\n    </tr>\n    <tr>\n      <th>4</th>\n      <td>Chicago Bulls</td>\n      <td>21.9</td>\n      <td>1.2</td>\n      <td>23.9</td>\n      <td>19.9</td>\n    </tr>\n    <tr>\n      <th>23</th>\n      <td>Phoenix Suns</td>\n      <td>21.2</td>\n      <td>4.2</td>\n      <td>28.1</td>\n      <td>14.3</td>\n    </tr>\n    <tr>\n      <th>0</th>\n      <td>Atlanta Hawks</td>\n      <td>21.0</td>\n      <td>4.2</td>\n      <td>28.0</td>\n      <td>14.0</td>\n    </tr>\n  </tbody>\n</table>\n</div>"
     },
     "metadata": {},
     "execution_count": 126
    }
   ],
   "source": [
    "from scipy.stats import norm\n",
    "\n",
    "season_frame_total = season_frame_home.append(season_frame_away)\n",
    "season_frame_total = season_frame_total.groupby(\"team_name\").sum()\n",
    "season_frame_total = season_frame_total.reset_index()\n",
    "season_frame_total['mean'] = season_frame_total.mean(axis=1).values\n",
    "season_frame_total['sd'] = season_frame_total.std(axis=1).values\n",
    "season_frame_total['best_case'] = norm.ppf(q=0.95, loc=season_frame_total['mean'], scale=season_frame_total['sd'])\n",
    "season_frame_total['worst_case'] = norm.ppf(q=0.05, loc=season_frame_total['mean'], scale=season_frame_total['sd'])\n",
    "season_frame_total = season_frame_total[['team_name', 'mean', 'sd', 'best_case', 'worst_case']]\n",
    "season_frame_total = season_frame_total.sort_values(['mean'], ascending=False)\n",
    "season_frame_total = season_frame_total.round(1)\n",
    "season_frame_total"
   ]
  },
  {
   "source": [
    "And there you have it, win projections done as simply as possible!"
   ],
   "cell_type": "markdown",
   "metadata": {}
  }
 ]
}